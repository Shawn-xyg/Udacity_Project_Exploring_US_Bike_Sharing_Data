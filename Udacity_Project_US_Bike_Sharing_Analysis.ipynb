{
 "cells": [
  {
   "cell_type": "markdown",
   "metadata": {},
   "source": [
    "# 2016 US Bike Share Activity Snapshot\n",
    "\n",
    "## Table of Contents\n",
    "- [Introduction](#intro)\n",
    "- [Posing Questions](#pose_questions)\n",
    "- [Data Collection and Wrangling](#wrangling)\n",
    "  - [Condensing the Trip Data](#condensing)\n",
    "- [Exploratory Data Analysis](#eda)\n",
    "  - [Statistics](#statistics)\n",
    "  - [Visualizations](#visualizations)\n",
    "- [Performing Your Own Analysis](#eda_continued)\n",
    "- [Conclusions](#conclusions)\n",
    "\n",
    "<a id='intro'></a>\n",
    "## Introduction\n",
    "\n",
    "> **Tip**: Quoted sections like this will provide helpful instructions on how to navigate and use a Jupyter notebook.\n",
    "\n",
    "Over the past decade, bicycle-sharing systems have been growing in number and popularity in cities across the world. Bicycle-sharing systems allow users to rent bicycles for short trips, typically 30 minutes or less. Thanks to the rise in information technologies, it is easy for a user of the system to access a dock within the system to unlock or return bicycles. These technologies also provide a wealth of data that can be used to explore how these bike-sharing systems are used.\n",
    "\n",
    "In this project, you will perform an exploratory analysis on data provided by [Motivate](https://www.motivateco.com/), a bike-share system provider for many major cities in the United States. You will compare the system usage between three large cities: New York City, Chicago, and Washington, DC. You will also see if there are any differences within each system for those users that are registered, regular users and those users that are short-term, casual users."
   ]
  },
  {
   "cell_type": "markdown",
   "metadata": {},
   "source": [
    "<a id='pose_questions'></a>\n",
    "## Posing Questions\n",
    "\n",
    "Before looking at the bike sharing data, you should start by asking questions you might want to understand about the bike share data. Consider, for example, if you were working for Motivate. What kinds of information would you want to know about in order to make smarter business decisions? If you were a user of the bike-share service, what factors might influence how you would want to use the service?\n",
    "\n",
    "**Question 1**: Write at least two questions you think could be answered by data.\n",
    "\n",
    "**Answer**: As a user, what factors might influence how you would want to use the service? There are plenty of factors that might influence the decision of a user to use bike sharing service. For example, the most common reason is about price. The price will certainly affect the users' decision making in the first place. The condition of the bikes is another important thing to consider. The accessibility, the appearence of the bike, the advanced technology of the bike are all important considerations when a user decide to use the bike sharing service. What is the peak time of using a bike in a day and is there any shortage of supply or over-supply conditions in this period of time? What is the most optimized amount of bikes for a large city like New York? How to manage this amount when competing with competitors? For bike sharing companies, the supply management has always been a primary concern. The supply-related problem can directly affect the perceived value of the service they provide. At the same time, the competition with other competitors is also an important consideration. It could be tricky to balance the profitability, the customer satisfaction and environmental externality. There are many stakeholers involved in this situation. How often do we have to repair broken bikes and how many bikes at a time do we have to repair before the satisfaction of the users going down? A certain level of broken bikes might have negative influence on the perceived value of the sharing bike service. Thus a dynamic effort to maintain an acceptable rate of bikes in good condition is crucial.\n",
    "\n",
    "\n",
    "\n",
    "> **Tip**: If you double click on this cell, you will see the text change so that all of the formatting is removed. This allows you to edit this block of text. This block of text is written using [Markdown](http://daringfireball.net/projects/markdown/syntax), which is a way to format text using headers, links, italics, and many other options using a plain-text syntax. You will also use Markdown later in the Nanodegree program. Use **Shift** + **Enter** or **Shift** + **Return** to run the cell and show its rendered form."
   ]
  },
  {
   "cell_type": "markdown",
   "metadata": {},
   "source": [
    "<a id='wrangling'></a>\n",
    "## Data Collection and Wrangling\n",
    "\n",
    "Now it's time to collect and explore our data. In this project, we will focus on the record of individual trips taken in 2016 from our selected cities: New York City, Chicago, and Washington, DC. Each of these cities has a page where we can freely download the trip data.:\n",
    "\n",
    "- New York City (Citi Bike): [Link](https://www.citibikenyc.com/system-data)\n",
    "- Chicago (Divvy): [Link](https://www.divvybikes.com/system-data)\n",
    "- Washington, DC (Capital Bikeshare): [Link](https://www.capitalbikeshare.com/system-data)\n",
    "\n",
    "If you visit these pages, you will notice that each city has a different way of delivering its data. Chicago updates with new data twice a year, Washington DC is quarterly, and New York City is monthly. **However, you do not need to download the data yourself.** The data has already been collected for you in the `/data/` folder of the project files. While the original data for 2016 is spread among multiple files for each city, the files in the `/data/` folder collect all of the trip data for the year into one file per city. Some data wrangling of inconsistencies in timestamp format within each city has already been performed for you. In addition, a random 2% sample of the original data is taken to make the exploration more manageable. \n",
    "\n",
    "**Question 2**: However, there is still a lot of data for us to investigate, so it's a good idea to start off by looking at one entry from each of the cities we're going to analyze. Run the first code cell below to load some packages and functions that you'll be using in your analysis. Then, complete the second code cell to print out the first trip recorded from each of the cities (the second line of each data file).\n",
    "\n",
    "> **Tip**: You can run a code cell like you formatted Markdown cells above by clicking on the cell and using the keyboard shortcut **Shift** + **Enter** or **Shift** + **Return**. Alternatively, a code cell can be executed using the **Play** button in the toolbar after selecting it. While the cell is running, you will see an asterisk in the message to the left of the cell, i.e. `In [*]:`. The asterisk will change into a number to show that execution has completed, e.g. `In [1]`. If there is output, it will show up as `Out [1]:`, with an appropriate number to match the \"In\" number."
   ]
  },
  {
   "cell_type": "code",
   "execution_count": 1,
   "metadata": {},
   "outputs": [],
   "source": [
    "## import all necessary packages and functions.\n",
    "import csv # read and write csv files\n",
    "from datetime import datetime # operations to parse dates\n",
    "from pprint import pprint # use to print data structures like dictionaries in\n",
    "                          # a nicer way than the base print function."
   ]
  },
  {
   "cell_type": "code",
   "execution_count": 2,
   "metadata": {},
   "outputs": [
    {
     "name": "stdout",
     "output_type": "stream",
     "text": [
      "\n",
      "City: NYC\n",
      "OrderedDict([('tripduration', '839'),\n",
      "             ('starttime', '1/1/2016 00:09:55'),\n",
      "             ('stoptime', '1/1/2016 00:23:54'),\n",
      "             ('start station id', '532'),\n",
      "             ('start station name', 'S 5 Pl & S 4 St'),\n",
      "             ('start station latitude', '40.710451'),\n",
      "             ('start station longitude', '-73.960876'),\n",
      "             ('end station id', '401'),\n",
      "             ('end station name', 'Allen St & Rivington St'),\n",
      "             ('end station latitude', '40.72019576'),\n",
      "             ('end station longitude', '-73.98997825'),\n",
      "             ('bikeid', '17109'),\n",
      "             ('usertype', 'Customer'),\n",
      "             ('birth year', ''),\n",
      "             ('gender', '0')])\n",
      "\n",
      "City: Chicago\n",
      "OrderedDict([('trip_id', '9080545'),\n",
      "             ('starttime', '3/31/2016 23:30'),\n",
      "             ('stoptime', '3/31/2016 23:46'),\n",
      "             ('bikeid', '2295'),\n",
      "             ('tripduration', '926'),\n",
      "             ('from_station_id', '156'),\n",
      "             ('from_station_name', 'Clark St & Wellington Ave'),\n",
      "             ('to_station_id', '166'),\n",
      "             ('to_station_name', 'Ashland Ave & Wrightwood Ave'),\n",
      "             ('usertype', 'Subscriber'),\n",
      "             ('gender', 'Male'),\n",
      "             ('birthyear', '1990')])\n",
      "\n",
      "City: Washington\n",
      "OrderedDict([('Duration (ms)', '427387'),\n",
      "             ('Start date', '3/31/2016 22:57'),\n",
      "             ('End date', '3/31/2016 23:04'),\n",
      "             ('Start station number', '31602'),\n",
      "             ('Start station', 'Park Rd & Holmead Pl NW'),\n",
      "             ('End station number', '31207'),\n",
      "             ('End station', 'Georgia Ave and Fairmont St NW'),\n",
      "             ('Bike number', 'W20842'),\n",
      "             ('Member Type', 'Registered')])\n"
     ]
    }
   ],
   "source": [
    "def print_first_point(filename):\n",
    "    \"\"\"\n",
    "    This function prints and returns the first data point (second row) from\n",
    "    a csv file that includes a header row.\n",
    "    \"\"\"\n",
    "    # print city name for reference\n",
    "    city = filename.split('-')[0].split('/')[-1]\n",
    "    print('\\nCity: {}'.format(city))\n",
    "    \n",
    "    with open(filename, 'r') as f_in:\n",
    "        trip_reader = csv.DictReader(f_in)\n",
    "        first_trip = next(trip_reader)\n",
    "        pprint(first_trip)\n",
    "    # output city name and first trip for later testing\n",
    "    return (city, first_trip)\n",
    "\n",
    "# list of files for each city\n",
    "data_files = ['./data/NYC-CitiBike-2016.csv',\n",
    "              './data/Chicago-Divvy-2016.csv',\n",
    "              './data/Washington-CapitalBikeshare-2016.csv',]\n",
    "\n",
    "# print the first trip from each file, store in dictionary\n",
    "example_trips = {}\n",
    "for data_file in data_files:\n",
    "    city, first_trip = print_first_point(data_file)\n",
    "    example_trips[city] = first_trip"
   ]
  },
  {
   "cell_type": "markdown",
   "metadata": {},
   "source": [
    "If everything has been filled out correctly, you should see below the printout of each city name (which has been parsed from the data file name) that the first trip has been parsed in the form of a dictionary. When you set up a `DictReader` object, the first row of the data file is normally interpreted as column names. Every other row in the data file will use those column names as keys, as a dictionary is generated for each row.\n",
    "\n",
    "This will be useful since we can refer to quantities by an easily-understandable label instead of just a numeric index. For example, if we have a trip stored in the variable `row`, then we would rather get the trip duration from `row['duration']` instead of `row[0]`.\n",
    "\n",
    "<a id='condensing'></a>\n",
    "### Condensing the Trip Data\n",
    "\n",
    "It should also be observable from the above printout that each city provides different information. Even where the information is the same, the column names and formats are sometimes different. To make things as simple as possible when we get to the actual exploration, we should trim and clean the data. Cleaning the data makes sure that the data formats across the cities are consistent, while trimming focuses only on the parts of the data we are most interested in to make the exploration easier to work with.\n",
    "\n",
    "You will generate new data files with five values of interest for each trip: trip duration, starting month, starting hour, day of the week, and user type. Each of these may require additional wrangling depending on the city:\n",
    "\n",
    "- **Duration**: This has been given to us in seconds (New York, Chicago) or milliseconds (Washington). A more natural unit of analysis will be if all the trip durations are given in terms of minutes.\n",
    "- **Month**, **Hour**, **Day of Week**: Ridership volume is likely to change based on the season, time of day, and whether it is a weekday or weekend. Use the start time of the trip to obtain these values. The New York City data includes the seconds in their timestamps, while Washington and Chicago do not. The [`datetime`](https://docs.python.org/3/library/datetime.html) package will be very useful here to make the needed conversions.\n",
    "- **User Type**: It is possible that users who are subscribed to a bike-share system will have different patterns of use compared to users who only have temporary passes. Washington divides its users into two types: 'Registered' for users with annual, monthly, and other longer-term subscriptions, and 'Casual', for users with 24-hour, 3-day, and other short-term passes. The New York and Chicago data uses 'Subscriber' and 'Customer' for these groups, respectively. For consistency, you will convert the Washington labels to match the other two.\n",
    "\n",
    "\n",
    "**Question 3a**: Complete the helper functions in the code cells below to address each of the cleaning tasks described above."
   ]
  },
  {
   "cell_type": "code",
   "execution_count": 3,
   "metadata": {},
   "outputs": [],
   "source": [
    "def duration_in_mins(datum, city):\n",
    "    \"\"\"\n",
    "    Takes as input a dictionary containing info about a single trip (datum) and\n",
    "    its origin city (city) and returns the trip duration in units of minutes.\n",
    "    \n",
    "    Remember that Washington is in terms of milliseconds while Chicago and NYC\n",
    "    are in terms of seconds. \n",
    "    \"\"\"\n",
    "    # extract the duration and parse them into standard format: minute\n",
    "    if city == 'NYC':\n",
    "        duration_seconds = int(datum['tripduration'])\n",
    "        duration = duration_seconds / 60\n",
    "        \n",
    "    elif city == 'Chicago':\n",
    "        duration_seconds = int(datum['tripduration'])\n",
    "        duration = duration_seconds / 60\n",
    "        \n",
    "    elif city == 'Washington':\n",
    "        duration_ms = int(datum['Duration (ms)'])\n",
    "        duration = duration_ms / 60000\n",
    "    \n",
    "    return duration\n"
   ]
  },
  {
   "cell_type": "code",
   "execution_count": 4,
   "metadata": {},
   "outputs": [],
   "source": [
    "def numeric_weekday_conversion(number_weekday):\n",
    "    \"\"\"\n",
    "    Convert the numeric representation of weekdays into string format.\n",
    "    \"\"\"\n",
    "    day_of_week_library = {0: 'Monday',\n",
    "                           1: 'Tuesday',\n",
    "                           2: 'Wednesday',\n",
    "                           3: 'Thursday',\n",
    "                           4: 'Friday',\n",
    "                           5: 'Saturday',\n",
    "                           6: 'Sunday'}\n",
    "    weekday = day_of_week_library[number_weekday]\n",
    "    return weekday\n",
    "    \n",
    "def time_of_trip(datum, city):\n",
    "    \"\"\"\n",
    "    Takes as input a dictionary containing info about a single trip (datum) and\n",
    "    its origin city (city) and returns the month, hour, and day of the week in\n",
    "    which the trip was made.\n",
    "    \"\"\"\n",
    "    \n",
    "\n",
    "    # Extracting the date and time from datum and parse them into the correct format. \n",
    "    if city == 'NYC':\n",
    "        date = datetime.strptime(datum['starttime'].split()[0], '%m/%d/%Y')\n",
    "        time = datetime.strptime(datum['starttime'].split()[1], '%H:%M:%S')\n",
    "        month = date.month\n",
    "        hour = time.hour\n",
    "        day_of_week = numeric_weekday_conversion(date.weekday())\n",
    "    elif city == 'Chicago':\n",
    "        date = datetime.strptime(datum['starttime'].split()[0], '%m/%d/%Y')\n",
    "        time = datetime.strptime(datum['starttime'].split()[1], '%H:%M')\n",
    "        month = date.month\n",
    "        hour = time.hour\n",
    "        day_of_week = numeric_weekday_conversion(date.weekday())\n",
    "    elif city == 'Washington':\n",
    "        date = datetime.strptime(datum['Start date'].split()[0], '%m/%d/%Y')\n",
    "        time = datetime.strptime(datum['Start date'].split()[1], '%H:%M')\n",
    "        month = date.month\n",
    "        hour = time.hour\n",
    "        day_of_week = numeric_weekday_conversion(date.weekday())\n",
    "    return (month, hour, day_of_week)\n"
   ]
  },
  {
   "cell_type": "code",
   "execution_count": 5,
   "metadata": {},
   "outputs": [],
   "source": [
    "def type_of_user(datum, city):\n",
    "    \"\"\"\n",
    "    Takes as input a dictionary containing info about a single trip (datum) and\n",
    "    its origin city (city) and returns the type of system user that made the\n",
    "    trip.\n",
    "    \"\"\"\n",
    "\n",
    "    if city == 'NYC':\n",
    "        user_type = datum['usertype']\n",
    "    elif city == 'Chicago':\n",
    "        user_type = datum['usertype']\n",
    "    elif city == 'Washington':\n",
    "        user_type = datum['Member Type']\n",
    "        if user_type == 'Registered':\n",
    "            user_type = 'Subscriber'\n",
    "        elif user_type == 'Casual':\n",
    "            user_type = 'Customer'\n",
    "    return user_type\n"
   ]
  },
  {
   "cell_type": "markdown",
   "metadata": {},
   "source": [
    "**Question 3b**: Now, use the helper functions you wrote above to create a condensed data file for each city consisting only of the data fields indicated above. In the `/examples/` folder, you will see an example datafile from the [Bay Area Bike Share](http://www.bayareabikeshare.com/open-data) before and after conversion. Make sure that your output is formatted to be consistent with the example file."
   ]
  },
  {
   "cell_type": "code",
   "execution_count": 6,
   "metadata": {},
   "outputs": [],
   "source": [
    "def condense_data(in_file, out_file, city):\n",
    "    \"\"\"\n",
    "    This function takes full data from the specified input file\n",
    "    and writes the condensed data to a specified output file. The city\n",
    "    argument determines how the input file will be parsed.\n",
    "    \n",
    "    HINT: See the cell below to see how the arguments are structured!\n",
    "    \"\"\"\n",
    "    \n",
    "    with open(out_file, 'w') as f_out, open(in_file, 'r') as f_in:\n",
    "        # set up csv DictWriter object - writer requires column names for the\n",
    "        # first row as the \"fieldnames\" argument\n",
    "        out_colnames = ['duration', 'month', 'hour', 'day_of_week', 'user_type']        \n",
    "        trip_writer = csv.DictWriter(f_out, fieldnames = out_colnames)\n",
    "        trip_writer.writeheader()\n",
    "        \n",
    "        trip_reader = csv.DictReader(f_in)\n",
    "\n",
    "        # collect data from and process each row\n",
    "        for row in trip_reader:\n",
    "            # set up a dictionary to hold the values for the cleaned and trimmed\n",
    "            # data point\n",
    "            new_point = {}\n",
    "            month, hour, day_of_week = time_of_trip(row, city)\n",
    "            new_point[out_colnames[0]] = duration_in_mins(row, city)\n",
    "            new_point[out_colnames[1]] = month\n",
    "            new_point[out_colnames[2]] = hour\n",
    "            new_point[out_colnames[3]] = day_of_week\n",
    "            new_point[out_colnames[4]] = type_of_user(row, city)\n",
    "            trip_writer.writerow(new_point)\n",
    "            "
   ]
  },
  {
   "cell_type": "code",
   "execution_count": 7,
   "metadata": {},
   "outputs": [
    {
     "name": "stdout",
     "output_type": "stream",
     "text": [
      "\n",
      "City: Washington\n",
      "OrderedDict([('duration', '7.123116666666666'),\n",
      "             ('month', '3'),\n",
      "             ('hour', '22'),\n",
      "             ('day_of_week', 'Thursday'),\n",
      "             ('user_type', 'Subscriber')])\n",
      "\n",
      "City: Chicago\n",
      "OrderedDict([('duration', '15.433333333333334'),\n",
      "             ('month', '3'),\n",
      "             ('hour', '23'),\n",
      "             ('day_of_week', 'Thursday'),\n",
      "             ('user_type', 'Subscriber')])\n",
      "\n",
      "City: NYC\n",
      "OrderedDict([('duration', '13.983333333333333'),\n",
      "             ('month', '1'),\n",
      "             ('hour', '0'),\n",
      "             ('day_of_week', 'Friday'),\n",
      "             ('user_type', 'Customer')])\n"
     ]
    }
   ],
   "source": [
    "# Run this cell to check your work\n",
    "city_info = {'Washington': {'in_file': './data/Washington-CapitalBikeshare-2016.csv',\n",
    "                            'out_file': './data/Washington-2016-Summary.csv'},\n",
    "             'Chicago': {'in_file': './data/Chicago-Divvy-2016.csv',\n",
    "                         'out_file': './data/Chicago-2016-Summary.csv'},\n",
    "             'NYC': {'in_file': './data/NYC-CitiBike-2016.csv',\n",
    "                     'out_file': './data/NYC-2016-Summary.csv'}}\n",
    "\n",
    "for city, filenames in city_info.items():\n",
    "    condense_data(filenames['in_file'], filenames['out_file'], city)\n",
    "    print_first_point(filenames['out_file'])"
   ]
  },
  {
   "cell_type": "markdown",
   "metadata": {},
   "source": [
    "> **Tip**: If you save a jupyter Notebook, the output from running code blocks will also be saved. However, the state of your workspace will be reset once a new session is started. Make sure that you run all of the necessary code blocks from your previous session to reestablish variables and functions before picking up where you last left off.\n",
    "\n",
    "<a id='eda'></a>\n",
    "## Exploratory Data Analysis\n",
    "\n",
    "Now that you have the data collected and wrangled, you're ready to start exploring the data. In this section you will write some code to compute descriptive statistics from the data. You will also be introduced to the `matplotlib` library to create some basic histograms of the data.\n",
    "\n",
    "<a id='statistics'></a>\n",
    "### Statistics\n",
    "\n",
    "First, let's compute some basic counts. The first cell below contains a function that uses the csv module to iterate through a provided data file, returning the number of trips made by subscribers and customers. The second cell runs this function on the example Bay Area data in the `/examples/` folder. Modify the cells to answer the question below.\n",
    "\n",
    "**Question 4a**: Which city has the highest number of trips? Which city has the highest proportion of trips made by subscribers? Which city has the highest proportion of trips made by short-term customers?\n",
    "\n",
    "**Answer**: New York City has the highest number of trips and the highest portion of subscribed users, too. Chicago has the highest number of short-term users."
   ]
  },
  {
   "cell_type": "code",
   "execution_count": 8,
   "metadata": {},
   "outputs": [],
   "source": [
    "def number_of_trips(filename):\n",
    "    \"\"\"\n",
    "    This function reads in a file with trip data and reports the number of\n",
    "    trips made by subscribers, customers, and total overall.\n",
    "    \"\"\"\n",
    "    with open(filename, 'r') as f_in:\n",
    "        # set up csv reader object\n",
    "        reader = csv.DictReader(f_in)\n",
    "        \n",
    "        # initialize count variables for each city\n",
    "        n_subscribers = 0\n",
    "        n_customers = 0\n",
    "        \n",
    "        # tally up ride types\n",
    "        for row in reader:\n",
    "            if row['user_type'] == 'Subscriber':\n",
    "                n_subscribers += 1\n",
    "            else:\n",
    "                n_customers += 1\n",
    "        \n",
    "        # compute total number of rides\n",
    "        n_total = n_subscribers + n_customers\n",
    "        \n",
    "        # return tallies as a tuple\n",
    "        return(n_subscribers, n_customers, n_total)"
   ]
  },
  {
   "cell_type": "code",
   "execution_count": 9,
   "metadata": {},
   "outputs": [
    {
     "name": "stdout",
     "output_type": "stream",
     "text": [
      "./data/NYC-2016-Summary.csv\n",
      "Total_subscribers: 245896\n",
      "Total_customers: 30902\n",
      "Total_users: 276798\n",
      "Portion_subscribers: 0.8883590199351151\n",
      "Portion_customers: 0.11164098006488486\n",
      "./data/Chicago-2016-Summary.csv\n",
      "Total_subscribers: 54982\n",
      "Total_customers: 17149\n",
      "Total_users: 72131\n",
      "Portion_subscribers: 0.7622520136973008\n",
      "Portion_customers: 0.23774798630269925\n",
      "./data/Washington-2016-Summary.csv\n",
      "Total_subscribers: 51753\n",
      "Total_customers: 14573\n",
      "Total_users: 66326\n",
      "Portion_subscribers: 0.7802822422579381\n",
      "Portion_customers: 0.21971775774206193\n"
     ]
    }
   ],
   "source": [
    "\n",
    "data_file = './data/NYC-2016-Summary.csv', './data/Chicago-2016-Summary.csv', './data/Washington-2016-Summary.csv'\n",
    "for file in data_file:\n",
    "    print(file)\n",
    "    subscribers, customers, total = number_of_trips(file)\n",
    "    print('Total_subscribers: {}'.format(subscribers))\n",
    "    print('Total_customers: {}'.format(customers))\n",
    "    print('Total_users: {}'.format(total))\n",
    "    print('Portion_subscribers: {}'.format(subscribers/total))\n",
    "    print('Portion_customers: {}'.format(customers/total))\n",
    "        \n"
   ]
  },
  {
   "cell_type": "markdown",
   "metadata": {},
   "source": [
    "> **Tip**: In order to add additional cells to a notebook, you can use the \"Insert Cell Above\" and \"Insert Cell Below\" options from the menu bar above. There is also an icon in the toolbar for adding new cells, with additional icons for moving the cells up and down the document. By default, new cells are of the code type; you can also specify the cell type (e.g. Code or Markdown) of selected cells from the Cell menu or the dropdown in the toolbar.\n",
    "\n",
    "Now, you will write your own code to continue investigating properties of the data.\n",
    "\n",
    "**Question 4b**: Bike-share systems are designed for riders to take short trips. Most of the time, users are allowed to take trips of 30 minutes or less with no additional charges, with overage charges made for trips of longer than that duration. What is the average trip length for each city? What proportion of rides made in each city are longer than 30 minutes?\n",
    "\n",
    "**Answer**: The average duration in NYC is 15.81 min, and the porportion of trips over 30 minutes is 7.30%. The average duration in Chicago is 16.56 minutes and the porportion of over time trips is 8.33%. Lastly, the average duration in Washington is 18.93 minutes and Washington also has the highest porportion of over time trips, which is 10.84%."
   ]
  },
  {
   "cell_type": "code",
   "execution_count": 10,
   "metadata": {
    "scrolled": true
   },
   "outputs": [
    {
     "name": "stdout",
     "output_type": "stream",
     "text": [
      "./data/NYC-2016-Summary.csv\n",
      "Average duration: 15.81259299802294 min\n",
      "Porportion of over time: 7.3024371563378345%\n",
      "./data/Chicago-2016-Summary.csv\n",
      "Average duration: 16.563629368787335 min\n",
      "Porportion of over time: 8.332062497400562%\n",
      "./data/Washington-2016-Summary.csv\n",
      "Average duration: 18.93287355913721 min\n",
      "Porportion of over time: 10.83888671109369%\n"
     ]
    }
   ],
   "source": [
    "\n",
    "def duration_analysis(filename):\n",
    "    \"\"\"\n",
    "    Counting the total trip number and the trip duration and use those numbers for calculation\n",
    "    of the average duration and the porportion of the over time trip.\n",
    "    \"\"\"\n",
    "    with open(filename, 'r') as f_in:\n",
    "        #Set up reader variable\n",
    "        reader = csv.DictReader(f_in)\n",
    "        number_of_trips = 0\n",
    "        over_charge_amount = 0\n",
    "        total_duration = 0\n",
    "        for row in reader:\n",
    "            #Accumulate the duration of all trips and count the amount of users as well\n",
    "            total_duration += float(row['duration'])\n",
    "            number_of_trips += 1\n",
    "            if float(row['duration']) > 30:\n",
    "                over_charge_amount += 1\n",
    "    return 'Average duration: {} min'.format(total_duration/number_of_trips), 'Porportion of over time: {}%'.format(over_charge_amount/number_of_trips*100) \n",
    "\n",
    "data_file = './data/NYC-2016-Summary.csv', './data/Chicago-2016-Summary.csv', './data/Washington-2016-Summary.csv'\n",
    "for file in data_file:\n",
    "    print(file)\n",
    "    print(duration_analysis(file)[0])\n",
    "    print(duration_analysis(file)[1])\n",
    "        \n"
   ]
  },
  {
   "cell_type": "markdown",
   "metadata": {},
   "source": [
    "**Question 4c**: Dig deeper into the question of trip duration based on ridership. Choose one city. Within that city, which type of user takes longer rides on average: Subscribers or Customers?\n",
    "\n",
    "**Answer**: Interstingly, similar to the bike sharing data in the Bay Area, the subscribers spend less time on the bike sharing service than customers. Take Washington for example, on average, the subscribers only spend 12.53 minutes on the bike sharing service, while the customers spend 41.68 minutes."
   ]
  },
  {
   "cell_type": "code",
   "execution_count": 11,
   "metadata": {},
   "outputs": [
    {
     "name": "stdout",
     "output_type": "stream",
     "text": [
      "./data/NYC-2016-Summary.csv\n",
      "Average subscriber duration: 13.680790523907177 min\n",
      "Average customer duration: 32.77595139473187 min\n",
      "./data/Chicago-2016-Summary.csv\n",
      "Average subscriber duration: 12.067201690250076 min\n",
      "Average customer duration: 30.979781133982506 min\n",
      "./data/Washington-2016-Summary.csv\n",
      "Average subscriber duration: 12.528120499294745 min\n",
      "Average customer duration: 41.67803139252976 min\n"
     ]
    }
   ],
   "source": [
    "\n",
    "def customer_analysis(filename):\n",
    "    \"\"\"\n",
    "    Counting the trip duration for each customer segement and comparing their average\n",
    "    \"\"\"\n",
    "    with open(filename, 'r') as f_in:\n",
    "        #Set up reader variable\n",
    "        reader = csv.DictReader(f_in)\n",
    "        number_of_trips_subscribers = 0\n",
    "        time_of_trips_subscribers = 0\n",
    "        number_of_trips_customers = 0\n",
    "        time_of_trips_customers = 0\n",
    "        for row in reader:\n",
    "            #Accumulate the duration of all trips and count the amount of users as well\n",
    "            if row['user_type'] == 'Subscriber':\n",
    "                time_of_trips_subscribers += float(row['duration'])\n",
    "                number_of_trips_subscribers += 1\n",
    "            else:\n",
    "                time_of_trips_customers += float(row['duration'])\n",
    "                number_of_trips_customers += 1\n",
    "    return 'Average subscriber duration: {} min'.format(time_of_trips_subscribers/number_of_trips_subscribers), 'Average customer duration: {} min'.format(time_of_trips_customers/number_of_trips_customers) \n",
    "\n",
    "data_file = './data/NYC-2016-Summary.csv', './data/Chicago-2016-Summary.csv', './data/Washington-2016-Summary.csv'\n",
    "for file in data_file:\n",
    "    print(file)\n",
    "    print(customer_analysis(file)[0])\n",
    "    print(customer_analysis(file)[1])\n"
   ]
  },
  {
   "cell_type": "markdown",
   "metadata": {},
   "source": [
    "<a id='visualizations'></a>\n",
    "### Visualizations\n",
    "\n",
    "The last set of values that you computed should have pulled up an interesting result. While the mean trip time for Subscribers is well under 30 minutes, the mean trip time for Customers is actually _above_ 30 minutes! It will be interesting for us to look at how the trip times are distributed. In order to do this, a new library will be introduced here, `matplotlib`. Run the cell below to load the library and to generate an example plot."
   ]
  },
  {
   "cell_type": "code",
   "execution_count": 12,
   "metadata": {},
   "outputs": [
    {
     "data": {
      "image/png": "[encoded data removed]",
      "text/plain": [
       "<matplotlib.figure.Figure at 0x7f4da015bbe0>"
      ]
     },
     "metadata": {},
     "output_type": "display_data"
    }
   ],
   "source": [
    "# load library\n",
    "import matplotlib.pyplot as plt\n",
    "\n",
    "# this is a 'magic word' that allows for plots to be displayed\n",
    "# inline with the notebook. If you want to know more, see:\n",
    "# http://ipython.readthedocs.io/en/stable/interactive/magics.html\n",
    "%matplotlib inline \n",
    "\n",
    "# example histogram, data taken from bay area sample\n",
    "data = [ 7.65,  8.92,  7.42,  5.50, 16.17,  4.20,  8.98,  9.62, 11.48, 14.33,\n",
    "        19.02, 21.53,  3.90,  7.97,  2.62,  2.67,  3.08, 14.40, 12.90,  7.83,\n",
    "        25.12,  8.30,  4.93, 12.43, 10.60,  6.17, 10.88,  4.78, 15.15,  3.53,\n",
    "         9.43, 13.32, 11.72,  9.85,  5.22, 15.10,  3.95,  3.17,  8.78,  1.88,\n",
    "         4.55, 12.68, 12.38,  9.78,  7.63,  6.45, 17.38, 11.90, 11.52,  8.63,]\n",
    "plt.hist(data)\n",
    "plt.title('Distribution of Trip Durations')\n",
    "plt.xlabel('Duration (m)')\n",
    "plt.show()"
   ]
  },
  {
   "cell_type": "markdown",
   "metadata": {},
   "source": [
    "In the above cell, we collected fifty trip times in a list, and passed this list as the first argument to the `.hist()` function. This function performs the computations and creates plotting objects for generating a histogram, but the plot is actually not rendered until the `.show()` function is executed. The `.title()` and `.xlabel()` functions provide some labeling for plot context.\n",
    "\n",
    "You will now use these functions to create a histogram of the trip times for the city you selected in question 4c. Don't separate the Subscribers and Customers for now: just collect all of the trip times and plot them."
   ]
  },
  {
   "cell_type": "code",
   "execution_count": 13,
   "metadata": {},
   "outputs": [
    {
     "data": {
      "image/png": "[encoded data removed]",
      "text/plain": [
       "<matplotlib.figure.Figure at 0x7f4da015ba90>"
      ]
     },
     "metadata": {},
     "output_type": "display_data"
    },
    {
     "name": "stdout",
     "output_type": "stream",
     "text": [
      "1422.5163666666667\n"
     ]
    }
   ],
   "source": [
    "## Use this and additional cells to collect all of the trip times as a list ##\n",
    "## and then use pyplot functions to generate a histogram of trip times.     ##\n",
    "%matplotlib inline\n",
    "\n",
    "with open('./data/Washington-2016-Summary.csv','r') as f_in:\n",
    "    reader = csv.DictReader(f_in)\n",
    "    data = list()\n",
    "    for row in reader:\n",
    "        data.append(float(row['duration']))\n",
    "    plt.hist(data)\n",
    "    plt.title('Distribution of Trip Durations')\n",
    "    plt.xlabel('Duration (m)')\n",
    "    plt.show()\n",
    "    print(max(data))\n",
    "    \n"
   ]
  },
  {
   "cell_type": "markdown",
   "metadata": {},
   "source": [
    "If you followed the use of the `.hist()` and `.show()` functions exactly like in the example, you're probably looking at a plot that's completely unexpected. The plot consists of one extremely tall bar on the left, maybe a very short second bar, and a whole lot of empty space in the center and right. Take a look at the duration values on the x-axis. This suggests that there are some highly infrequent outliers in the data. Instead of reprocessing the data, you will use additional parameters with the `.hist()` function to limit the range of data that is plotted. Documentation for the function can be found [[here]](https://matplotlib.org/devdocs/api/_as_gen/matplotlib.pyplot.hist.html#matplotlib.pyplot.hist).\n",
    "\n",
    "**Question 5**: Use the parameters of the `.hist()` function to plot the distribution of trip times for the Subscribers in your selected city. Do the same thing for only the Customers. Add limits to the plots so that only trips of duration less than 75 minutes are plotted. As a bonus, set the plots up so that bars are in five-minute wide intervals. For each group, where is the peak of each distribution? How would you describe the shape of each distribution?\n",
    "\n",
    "**Answer**: The peak for subscribers is in the range of (5,10] minutes, and the peak for customer group is in the range of (15,20] minutes. The sample size of the subscriber is almonst 4 times as large as customers'. Both of the histogram demonstrates skew normal distribution. According to the histogram created, both the distribution of subscribers and the customers of Washington follows a left-skewed normal distribution, which can be characterized by rapid rise and drop-off in frequency. Comparing the two histogram, we can see that the spread of the frequency of subscribers is much lower than the spread of customer, which indicates the standard deviation for the frequency of subscribers is lower compare to customers, which indicate that the subscribers tend to use the bike sharing system for shorter period of time than customers and their tend to use the service regularly as majority of subscriber trips is within 15 minutes."
   ]
  },
  {
   "cell_type": "code",
   "execution_count": 14,
   "metadata": {},
   "outputs": [
    {
     "data": {
      "image/png": "[encoded data removed]",
      "text/plain": [
       "<matplotlib.figure.Figure at 0x7f4da015b7f0>"
      ]
     },
     "metadata": {},
     "output_type": "display_data"
    },
    {
     "name": "stdout",
     "output_type": "stream",
     "text": [
      "The sample size of subscriber: 51753\n"
     ]
    },
    {
     "data": {
      "image/png": "[encoded data removed]",
      "text/plain": [
       "<matplotlib.figure.Figure at 0x7f4d8833d710>"
      ]
     },
     "metadata": {},
     "output_type": "display_data"
    },
    {
     "name": "stdout",
     "output_type": "stream",
     "text": [
      "The sample size of customer: 14573\n"
     ]
    }
   ],
   "source": [
    "## Use this and additional cells to answer Question 5. ##\n",
    "import numpy as np\n",
    "with open('./data/Washington-2016-Summary.csv','r') as f_in:\n",
    "    reader = csv.DictReader(f_in)\n",
    "    subscriber_data = list()\n",
    "    customer_data = list()\n",
    "    for row in reader:\n",
    "        if row['user_type'] == 'Subscriber':\n",
    "            subscriber_data.append(float(row['duration']))\n",
    "        else:\n",
    "            customer_data.append(float(row['duration']))\n",
    "    plt.hist(subscriber_data,bins = np.linspace(0, 75, num = 16), range = (0, 75), color = 'green')\n",
    "    plt.title('Distribution of Subscriber Trip Durations')\n",
    "    plt.xlabel('Duration (m)')\n",
    "    plt.xticks(np.arange(0,75,5.0))\n",
    "    plt.show()\n",
    "    print('The sample size of subscriber: {}'.format(len(subscriber_data)))\n",
    "    plt.hist(customer_data,bins = np.linspace(0, 75, num = 16), range = (0, 75), color = 'green')\n",
    "    plt.title('Distribution of Customer Trip Durations')\n",
    "    plt.xlabel('Duration (m)')\n",
    "    plt.xticks(np.arange(0,75,5.0))\n",
    "    plt.show()\n",
    "    print('The sample size of customer: {}'.format(len(customer_data)))\n"
   ]
  },
  {
   "cell_type": "markdown",
   "metadata": {
    "collapsed": true
   },
   "source": [
    "<a id='eda_continued'></a>\n",
    "## Performing Your Own Analysis\n",
    "\n",
    "So far, you've performed an initial exploration into the data available. You have compared the relative volume of trips made between three U.S. cities and the ratio of trips made by Subscribers and Customers. For one of these cities, you have investigated differences between Subscribers and Customers in terms of how long a typical trip lasts. Now it is your turn to continue the exploration in a direction that you choose. Here are a few suggestions for questions to explore:\n",
    "\n",
    "- How does ridership differ by month or season? Which month / season has the highest ridership? Does the ratio of Subscriber trips to Customer trips change depending on the month or season?\n",
    "- Is the pattern of ridership different on the weekends versus weekdays? On what days are Subscribers most likely to use the system? What about Customers? Does the average duration of rides change depending on the day of the week?\n",
    "- During what time of day is the system used the most? Is there a difference in usage patterns for Subscribers and Customers?\n",
    "\n",
    "If any of the questions you posed in your answer to question 1 align with the bullet points above, this is a good opportunity to investigate one of them. As part of your investigation, you will need to create a visualization. If you want to create something other than a histogram, then you might want to consult the [Pyplot documentation](https://matplotlib.org/devdocs/api/pyplot_summary.html). In particular, if you are plotting values across a categorical variable (e.g. city, user type), a bar chart will be useful. The [documentation page for `.bar()`](https://matplotlib.org/devdocs/api/_as_gen/matplotlib.pyplot.bar.html#matplotlib.pyplot.bar) includes links at the bottom of the page with examples for you to build off of for your own use.\n",
    "\n",
    "**Question 6**: Continue the investigation by exploring another question that could be answered by the data available. Document the question you want to explore below. Your investigation should involve at least two variables and should compare at least two groups. You should also use at least one visualization as part of your explorations.\n",
    "\n",
    "**Answer**: In each city, the system is used most in the Summer, regardless of the user type, except for NYC, where the system is used most in the Fall for subscribers. That raises some interesting consideration: Is it because of the holiday season for student and they typically use bikes as part of the transportation in their short trip? Is it because of Summer is the peak season for tourism in these cities? All of these insight can be developed through further investigation of the data. "
   ]
  },
  {
   "cell_type": "code",
   "execution_count": 15,
   "metadata": {},
   "outputs": [
    {
     "data": {
      "image/png": "[encoded data removed]",
      "text/plain": [
       "<matplotlib.figure.Figure at 0x7f4d8807ce80>"
      ]
     },
     "metadata": {},
     "output_type": "display_data"
    },
    {
     "data": {
      "image/png": "[encoded data removed]",
      "text/plain": [
       "<matplotlib.figure.Figure at 0x7f4d8806fda0>"
      ]
     },
     "metadata": {},
     "output_type": "display_data"
    },
    {
     "data": {
      "image/png": "[encoded data removed]",
      "text/plain": [
       "<matplotlib.figure.Figure at 0x7f4d8807cc18>"
      ]
     },
     "metadata": {},
     "output_type": "display_data"
    },
    {
     "data": {
      "image/png": "[encoded data removed]",
      "text/plain": [
       "<matplotlib.figure.Figure at 0x7f4d81fc58d0>"
      ]
     },
     "metadata": {},
     "output_type": "display_data"
    },
    {
     "data": {
      "image/png": "[encoded data removed]",
      "text/plain": [
       "<matplotlib.figure.Figure at 0x7f4d81f7a9b0>"
      ]
     },
     "metadata": {},
     "output_type": "display_data"
    },
    {
     "data": {
      "image/png": "[encoded data removed]",
      "text/plain": [
       "<matplotlib.figure.Figure at 0x7f4d81f54a58>"
      ]
     },
     "metadata": {},
     "output_type": "display_data"
    }
   ],
   "source": [
    "## Use this and additional cells to continue to explore the dataset. ##\n",
    "## Once you have performed your exploration, document your findings  ##\n",
    "## in the Markdown cell above. ##\n",
    "\n",
    "#Explore the seasonal distribution for subscriber and customer trips in each city\n",
    "def seasonal_analysis(filename, usertype):\n",
    "    cityname = filename.split('-')[0][7:]\n",
    "    with open(filename,'r') as f_in:\n",
    "        reader = csv.DictReader(f_in)\n",
    "        user_data = {'Spring':0, 'Summer':0, 'Fall':0, 'Winter':0}\n",
    "        for row in reader:\n",
    "            if row['user_type'] == usertype and row['month'] in ['3','4','5']:\n",
    "                user_data['Spring'] += 1\n",
    "            elif row['user_type'] == usertype and row['month'] in ['6','7','8']:\n",
    "                user_data['Summer'] += 1\n",
    "            elif row['user_type'] == usertype and row['month'] in ['9','10','11']:\n",
    "                user_data['Fall'] += 1\n",
    "            elif row['user_type'] == usertype and row['month'] in ['12','1','2']:\n",
    "                user_data['Winter'] += 1\n",
    "    dictionary = plt.figure()\n",
    "    plt.bar(range(len(user_data)), user_data.values(), align='center')\n",
    "    plt.title('Seasonal Distribution of {} Trip Durations in {}'.format(usertype, cityname))\n",
    "    plt.xticks(range(len(user_data)), user_data.keys())\n",
    "    \n",
    "    \n",
    "datafile = './data/NYC-2016-Summary.csv', './data/Chicago-2016-Summary.csv', './data/Washington-2016-Summary.csv'\n",
    "for file in datafile:\n",
    "    seasonal_analysis(file, 'Subscriber')\n",
    "    seasonal_analysis(file, 'Customer')"
   ]
  },
  {
   "cell_type": "markdown",
   "metadata": {},
   "source": [
    "<a id='conclusions'></a>\n",
    "## Conclusions\n",
    "\n",
    "Congratulations on completing the project! This is only a sampling of the data analysis process: from generating questions, wrangling the data, and to exploring the data. Normally, at this point in the data analysis process, you might want to draw conclusions about the data by performing a statistical test or fitting the data to a model for making predictions. There are also a lot of potential analyses that could be performed on the data which are not possible with only the data provided. For example, detailed location data has not been investigated. Where are the most commonly used docks? What are the most common routes? As another example, weather has potential to have a large impact on daily ridership. How much is ridership impacted when there is rain or snow? Are subscribers or customers affected more by changes in weather?\n",
    "\n",
    "**Question 7**: Putting the bike share data aside, think of a topic or field of interest where you would like to be able to apply the techniques of data science. What would you like to be able to learn from your chosen subject?\n",
    "\n",
    "**Answer**: The health service is another field that I would like to implement data science. With the health service data analytics. I can learn what kinds of health problems are more significant in a particular area than others. The data science in health service can enable health service provider to gain access to faster and timely aid for those who needs help and concern. Moreover, ordinary people can also get insight through getting access to those kind of data and learn how to prevent exposing to health risk factors. It is a large topic to discuss, but I believe that through the develop of data science and artificial intelligence, we can finally conquer cancer and change the world.\n",
    "> **Tip**: If we want to share the results of our analysis with others, we aren't limited to giving them a copy of the jupyter Notebook (.ipynb) file. We can also export the Notebook output in a form that can be opened even for those without Python installed. From the **File** menu in the upper left, go to the **Download as** submenu. You can then choose a different format that can be viewed more generally, such as HTML (.html) or\n",
    "PDF (.pdf). You may need additional packages or software to perform these exports.\n",
    "\n",
    "> If you are working on this project via the Project Notebook page in the classroom, you can also submit this project directly from the workspace. **Before you do that**, you should save an HTML copy of the completed project to the workspace by running the code cell below. If it worked correctly, the output code should be a 0, and if you click on the jupyter icon in the upper left, you should see your .html document in the workspace directory. Alternatively, you can download the .html copy of your report following the steps in the previous paragraph, then _upload_ the report to the directory (by clicking the jupyter icon).\n",
    "\n",
    "> Either way, once you've gotten the .html report in your workspace, you can complete your submission by clicking on the \"Submit Project\" button to the lower-right hand side of the workspace."
   ]
  },
  {
   "cell_type": "code",
   "execution_count": 16,
   "metadata": {},
   "outputs": [
    {
     "data": {
      "text/plain": [
       "0"
      ]
     },
     "execution_count": 16,
     "metadata": {},
     "output_type": "execute_result"
    }
   ],
   "source": [
    "from subprocess import call\n",
    "call(['python', '-m', 'nbconvert', 'Bike_Share_Analysis.ipynb'])"
   ]
  },
  {
   "cell_type": "code",
   "execution_count": null,
   "metadata": {},
   "outputs": [],
   "source": []
  }
 ],
 "metadata": {
  "anaconda-cloud": {},
  "kernelspec": {
   "display_name": "Python 3",
   "language": "python",
   "name": "python3"
  },
  "language_info": {
   "codemirror_mode": {
    "name": "ipython",
    "version": 3
   },
   "file_extension": ".py",
   "mimetype": "text/x-python",
   "name": "python",
   "nbconvert_exporter": "python",
   "pygments_lexer": "ipython3",
   "version": "3.6.3"
  }
 },
 "nbformat": 4,
 "nbformat_minor": 1
}
